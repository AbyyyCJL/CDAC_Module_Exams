{
 "cells": [
  {
   "cell_type": "markdown",
   "id": "bd1f6c6f-2d1b-4edb-8af8-c814b70c643c",
   "metadata": {},
   "source": [
    "Q1 : A company is developing a text segmentation tool that takes a string without spaces and checks if it can be split into meaningful words based on a given dictionary. (15 Marks)\n",
    "For example:\n",
    "- If s = \"applepenapple\" and wordDict = [\"apple\", \"pen\"], the output should be True because \"applepenapple\" can be split as \"apple pen apple\".\n",
    "- If s = \"catsandog\" and wordDict = [\"cats\", \"dog\", \"sand\", \"and\", \"cat\"], the output should be False because the word \"catsandog\" cannot be fully split using the dictionary words.\n"
   ]
  },
  {
   "cell_type": "code",
   "execution_count": 74,
   "id": "48637c41-292e-430b-a1d2-6baa6d481ef8",
   "metadata": {},
   "outputs": [
    {
     "name": "stdout",
     "output_type": "stream",
     "text": [
      "True\n",
      "False\n"
     ]
    }
   ],
   "source": [
    "def text_segmatation(s,wordDict):\n",
    "    words = set(wordDict)\n",
    "    w = [False] * (len(s) + 1)\n",
    "    w[0] = True\n",
    "\n",
    "    for i in range(1 , len(s) + 1):\n",
    "        for j in words:\n",
    "            if i >= len(j) and w[i - len(j)] and s[i - len(j):i] == j:\n",
    "                w[i] = True\n",
    "                break\n",
    "    return w[len(s)]\n",
    "\n",
    "s = \"applepenapple\"\n",
    "wordDict = [\"apple\", \"pen\"]\n",
    "\n",
    "ans = text_segmatation(s, wordDict)\n",
    "print(ans)\n",
    "\n",
    "s = \"catsandog\"\n",
    "wordDict = [\"cats\", \"dog\", \"sand\", \"and\", \"cat\"]\n",
    "\n",
    "ans = text_segmatation(s, wordDict)\n",
    "print(ans)"
   ]
  },
  {
   "cell_type": "markdown",
   "id": "fb95046a-9d67-48bf-b7e7-d9ca29342766",
   "metadata": {},
   "source": [
    "Q2. Problem Statement:(15 Marks)\r\n",
    "A text analysis application requires a feature to identify the longest palindromic substring from a given string. A palindrome is a sequence of characters that reads the same forward and backward.\r\n",
    "Your task is to implement a function that finds the longest palindromic substring in a given string s.\r\n",
    "Example 1:\r\n",
    "Input: s = \"babad\"\r\n",
    "Output: \"bab\" or \"aba\"\r\n",
    "Example 2:\r\n",
    "Input: s = \"cbbd\"\r\n",
    "Output: \"bb\"\r\n",
    "Example 3:\r\n",
    "Input: s = \"racecar\"\r\n",
    "Output: \"racecar\"\r\n",
    "Example 4:\r\n",
    "Input: s = \"abcdef\"\r\n",
    "Output: \"a\" (or any single character)\r\n"
   ]
  },
  {
   "cell_type": "code",
   "execution_count": 3,
   "id": "6f6b8701-cb21-4076-b68c-74334fc073dd",
   "metadata": {},
   "outputs": [
    {
     "name": "stdout",
     "output_type": "stream",
     "text": [
      "aba\n",
      "bb\n"
     ]
    }
   ],
   "source": [
    "def longest_palindrome(s):  \n",
    "\n",
    "    start, end = 0, 0  \n",
    "    \n",
    "    for i in range(len(s)):  \n",
    "        len1 = expand_around_center(s, i, i)   \n",
    "        len2 = expand_around_center(s, i, i + 1)  \n",
    "        length = max(len1, len2)  \n",
    "        \n",
    "        if length > end - start:  \n",
    "            start = i - (length - 1) // 2  \n",
    "            end = i + length // 2  \n",
    "            \n",
    "    return s[start:end + 1]  \n",
    "\n",
    "def expand_around_center(s, left, right):  \n",
    "    while left >= 0 and right < len(s) and s[left] == s[right]:  \n",
    "        left -= 1  \n",
    "        right += 1  \n",
    "    return right - left - 1  \n",
    "\n",
    "\n",
    "print(longest_palindrome(\"babad\"))    \n",
    "print(longest_palindrome(\"cbbd\"))  "
   ]
  },
  {
   "cell_type": "code",
   "execution_count": null,
   "id": "b92ee432-731b-425c-8f0b-f97e4c944b81",
   "metadata": {},
   "outputs": [],
   "source": []
  },
  {
   "cell_type": "markdown",
   "id": "b3f2b37f-6816-48ce-97ce-d8b6238cd1ba",
   "metadata": {},
   "source": [
    "Q3. Problem Statement: (10 Marks)\r\n",
    "A data analysis tool needs to find common elements between two datasets. Given two integer arrays nums1 and nums2, return a list containing only the elements present in both arrays.\r\n",
    " Example Scenario- s\r\n",
    "Example 1:\r\n",
    "Input: nums1 = [1, 2, 2, 1], nums2 = [2, 2]\r\n",
    "Output:- [2]\r\n",
    " Example 2:\r\n",
    "Input: nums1 = [4, 9, 5], nums2 = [9, 4, 9, 8, 4]\r\n",
    "Output:- [9, 4]\r\n",
    " Example 3:\r\n",
    "Input: nums1 = [1, 3, 5, 7], nums2 = [2, 4, 6, 8]\r\n",
    "Output: []\r\n"
   ]
  },
  {
   "cell_type": "code",
   "execution_count": 1,
   "id": "3e6eb691-4210-4a8f-993c-e81270375c91",
   "metadata": {},
   "outputs": [
    {
     "name": "stdout",
     "output_type": "stream",
     "text": [
      "[2]\n",
      "[9, 4]\n",
      "[]\n"
     ]
    }
   ],
   "source": [
    "def comm_elem(nums1, nums2):\n",
    "\n",
    "    ans = list(set(nums1).intersection(set(nums2)))\n",
    "    return ans\n",
    "\n",
    "print(comm_elem([1, 2, 2, 1], [2,2]))\n",
    "print(comm_elem([4, 9, 5], [9, 4, 9, 8, 4]))\n",
    "print(comm_elem([1, 3, 5, 7], [2, 4, 6, 8]))"
   ]
  },
  {
   "cell_type": "code",
   "execution_count": null,
   "id": "a73282b0-e4f1-4afa-82b2-44c60bf47d8c",
   "metadata": {},
   "outputs": [],
   "source": []
  }
 ],
 "metadata": {
  "kernelspec": {
   "display_name": "Python 3 (ipykernel)",
   "language": "python",
   "name": "python3"
  },
  "language_info": {
   "codemirror_mode": {
    "name": "ipython",
    "version": 3
   },
   "file_extension": ".py",
   "mimetype": "text/x-python",
   "name": "python",
   "nbconvert_exporter": "python",
   "pygments_lexer": "ipython3",
   "version": "3.12.4"
  }
 },
 "nbformat": 4,
 "nbformat_minor": 5
}
